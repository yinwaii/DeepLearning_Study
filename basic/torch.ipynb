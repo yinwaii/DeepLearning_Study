{
 "metadata": {
  "language_info": {
   "codemirror_mode": {
    "name": "ipython",
    "version": 3
   },
   "file_extension": ".py",
   "mimetype": "text/x-python",
   "name": "python",
   "nbconvert_exporter": "python",
   "pygments_lexer": "ipython3",
   "version": "3.8.5-final"
  },
  "orig_nbformat": 2,
  "kernelspec": {
   "name": "python3",
   "display_name": "Python 3.8.5 64-bit ('base': conda)",
   "metadata": {
    "interpreter": {
     "hash": "cf69c4815369e1be4c61defd57a513846390c47170d963d7fd50a11a1564b520"
    }
   }
  }
 },
 "nbformat": 4,
 "nbformat_minor": 2,
 "cells": [
  {
   "source": [
    "import torch"
   ],
   "cell_type": "code",
   "metadata": {},
   "execution_count": null,
   "outputs": []
  },
  {
   "source": [
    "torch.manual_seed(100)\n",
    "x = torch.randn(2, 3)\n",
    "mask = x > 0\n",
    "print(torch.masked_select(x, mask))"
   ],
   "cell_type": "code",
   "metadata": {},
   "execution_count": null,
   "outputs": []
  },
  {
   "cell_type": "code",
   "execution_count": null,
   "metadata": {},
   "outputs": [],
   "source": [
    "index = torch.LongTensor([[0, 1]])\n",
    "print(x)\n",
    "print(torch.gather(x, 0, index))"
   ]
  },
  {
   "cell_type": "code",
   "execution_count": null,
   "metadata": {},
   "outputs": [],
   "source": [
    "t = torch.randn(1, 3)\n",
    "t1 = torch.randn(3, 1)\n",
    "t2 = torch.randn(1, 3)\n",
    "print(torch.addcdiv(t, 0.1, t1, t2))\n",
    "print(torch.sigmoid(t))\n",
    "print(torch.clamp(t, 0, 0.5))"
   ]
  },
  {
   "cell_type": "code",
   "execution_count": null,
   "metadata": {},
   "outputs": [],
   "source": [
    "a = torch.linspace(0, 10, 6).view([2,3])\n",
    "print(torch.sum(a, dim = 0, keepdim = True))\n",
    "print(torch.sum(a, dim = 1, keepdim = True))\n",
    "print(torch.max(a, dim = 0))"
   ]
  }
 ]
}