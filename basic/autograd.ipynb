{
 "metadata": {
  "language_info": {
   "codemirror_mode": {
    "name": "ipython",
    "version": 3
   },
   "file_extension": ".py",
   "mimetype": "text/x-python",
   "name": "python",
   "nbconvert_exporter": "python",
   "pygments_lexer": "ipython3",
   "version": "3.8.5-final"
  },
  "orig_nbformat": 2,
  "kernelspec": {
   "name": "python3",
   "display_name": "Python 3.8.5 64-bit ('base': conda)",
   "metadata": {
    "interpreter": {
     "hash": "cf69c4815369e1be4c61defd57a513846390c47170d963d7fd50a11a1564b520"
    }
   }
  }
 },
 "nbformat": 4,
 "nbformat_minor": 2,
 "cells": [
  {
   "cell_type": "code",
   "execution_count": 1,
   "metadata": {},
   "outputs": [],
   "source": [
    "import torch"
   ]
  },
  {
   "cell_type": "code",
   "execution_count": 5,
   "metadata": {},
   "outputs": [],
   "source": [
    "x = torch.tensor([2])\n",
    "w = torch.randn(1, requires_grad = True)\n",
    "b = torch.randn(1, requires_grad = True)\n",
    "y = torch.mul(w, x)\n",
    "z = torch.add(y, b)"
   ]
  },
  {
   "cell_type": "code",
   "execution_count": 6,
   "metadata": {},
   "outputs": [
    {
     "output_type": "stream",
     "name": "stdout",
     "text": [
      "tensor([2.]) tensor([1.3430], requires_grad=True) tensor([-1.0068], requires_grad=True) tensor([2.6860], grad_fn=<MulBackward0>) tensor([1.6792], grad_fn=<AddBackward0>)\nNone tensor([2.]) tensor([1.]) None None\n"
     ]
    }
   ],
   "source": [
    "print(x, w, b, y, z)\n",
    "# 说实话这地方的机理有点没看懂\n",
    "z.backward()\n",
    "print(x.grad, w.grad, b.grad, y.grad, z.grad)"
   ]
  },
  {
   "cell_type": "code",
   "execution_count": 9,
   "metadata": {},
   "outputs": [],
   "source": [
    "X = torch.tensor([[2, 3]], dtype = torch.float, requires_grad = True)\n",
    "J = torch.zeros([2, 2])\n",
    "Y = torch.zeros([1, 2])\n",
    "Y[0, 0] = X[0, 0] ** 2 + 3 * X[0, 1]\n",
    "Y[0, 1] = X[0, 1] ** 2 + 2 * X[0, 0]"
   ]
  },
  {
   "cell_type": "code",
   "execution_count": 10,
   "metadata": {},
   "outputs": [
    {
     "output_type": "stream",
     "name": "stdout",
     "text": [
      "tensor([[4., 3.],\n        [2., 6.]])\n"
     ]
    }
   ],
   "source": [
    "Y.backward(torch.tensor([[1, 0]]), retain_graph = True)\n",
    "J[0] = X.grad\n",
    "X.grad = torch.zeros_like(X.grad)\n",
    "# 为啥说梯度是累加的呢\n",
    "Y.backward(torch.tensor([[0, 1]]))\n",
    "J[1] = X.grad\n",
    "print(J)"
   ]
  },
  {
   "cell_type": "code",
   "execution_count": null,
   "metadata": {},
   "outputs": [],
   "source": []
  }
 ]
}